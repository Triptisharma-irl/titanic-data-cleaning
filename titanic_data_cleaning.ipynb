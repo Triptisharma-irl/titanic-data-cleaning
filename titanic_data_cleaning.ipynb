PassengerId,Survived,Pclass,Name,Sex,Age,SibSp,Parch,Ticket,Fare,Cabin,Embarked_Q,Embarked_S,Embarked_Unknown
1,0,3,"Braund, Mr. Owen Harris",0,-0.5303766406838785,1,0,A/5 21171,-0.5189778652472694,Unknown,False,True,False
3,1,3,"Heikkinen, Miss. Laina",1,-0.25482473201211503,0,0,STON/O2. 3101282,-0.5062135634647565,Unknown,False,True,False
4,1,1,"Futrelle, Mrs. Jacques Heath (Lily May Peel)",1,0.36516706249935255,1,0,113803,0.34804915212786086,C123,False,True,False
5,0,3,"Allen, Mr. William Henry",0,0.36516706249935255,0,0,373450,-0.5038498038754023,Unknown,False,True,False
7,0,1,"McCarthy, Mr. Timothy J",0,1.6740386286902287,0,0,17463,0.32464793219325394,E46,False,True,False
8,0,3,"Palsson, Master. Gosta Leonard",0,-1.9081361840426954,3,1,349909,-0.257546054664692,Unknown,False,True,False
9,1,3,"Johnson, Mrs. Oscar W (Elisabeth Vilhelmina Berg)",1,-0.1859367548441742,0,2,347742,-0.4455443643405553,Unknown,False,True,False
10,1,2,"Nasser, Mrs. Nicholas (Adele Achem)",1,-1.0814804580274051,1,0,237736,-0.08743478655338999,Unknown,False,False,False
11,1,3,"Sandstrom, Miss. Marguerite Rut",1,-1.7703602297068137,1,1,PP 9549,-0.3402776402920899,G6,False,True,False
12,1,1,"Bonnell, Miss. Elizabeth",1,1.949590537361992,0,0,113783,-0.15401338465097683,C103,False,True,False
13,0,3,"Saundercock, Mr. William Henry",0,-0.6681525950197601,0,0,A/5. 2151,-0.5038498038754023,Unknown,False,True,False
14,0,3,"Andersson, Mr. Anders Johan",0,0.6407189711711159,1,5,347082,-0.06466327217338712,Unknown,False,True,False
15,0,3,"Vestrom, Miss. Hulda Amanda Adolfina",1,-1.0814804580274051,0,0,350406,-0.5075523968961668,Unknown,False,True,False
16,1,2,"Hewlett, Mrs. (Mary D Kingcome) ",1,1.7429266058581694,0,0,248706,-0.35351469399247354,Unknown,False,True,False
17,0,3,"Rice, Master. Eugene",0,-1.9081361840426954,4,1,382652,-0.10531993711027979,Unknown,True,False,False
19,0,3,"Vander Planke, Mrs. Julius (Emelia Maria Vandemoortele)",1,0.08961515382758917,1,0,345763,-0.31569454056280594,Unknown,False,True,False
21,0,2,"Fynney, Mr. Joseph J",0,0.36516706249935255,0,0,239865,-0.16441392684413544,Unknown,False,True,False
22,1,2,"Beesley, Mr. Lawrence",0,0.2962790853314117,0,0,248698,-0.410244924136975,D56,False,True,False
23,1,3,"McGowan, Miss. Anna ""Annie""",1,-1.0125924808594644,0,0,330923,-0.504243133471071,Unknown,True,False,False
24,1,1,"Sloper, Mr. William Thompson",0,-0.11704877767623337,0,0,113788,0.015231801946785766,A6,False,True,False
25,0,3,"Palsson, Miss. Torborg Danira",1,-1.4948083210350502,3,1,349909,-0.257546054664692,Unknown,False,True,False
26,1,3,"Asplund, Mrs. Carl Oscar (Selma Augusta Emilia Johansson)",1,0.571830994003175,1,5,347077,-0.0625358885429683,Unknown,False,True,False
31,0,1,"Uruchurtu, Don. Manuel E",0,0.7096069483390568,0,0,PC 17601,-0.1318734668332494,Unknown,False,False,False
36,0,1,"Holverson, Mr. Alexander Oskar",0,0.8473829026749384,1,0,113789,0.32724806774154364,Unknown,False,True,False
38,0,3,"Cann, Mr. Ernest Charles",0,-0.5992646178518193,0,0,A./5. 2152,-0.5038498038754023,Unknown,False,True,False
39,0,3,"Vander Planke, Miss. Augusta Maria",1,-0.8059285493556418,2,0,345764,-0.31569454056280594,Unknown,False,True,False
40,1,3,"Nicola-Yarred, Miss. Jamila",1,-1.0814804580274051,1,0,2651,-0.4434945120246673,Unknown,False,False,False
41,0,3,"Ahlin, Mrs. Johan (Johanna Persdotter Larsson)",1,0.7096069483390568,1,0,7546,-0.47690294455676413,Unknown,False,True,False
42,0,2,"Turpin, Mrs. William John Robert (Dorothy Ann Wonnacott)",1,-0.1859367548441742,1,0,11668,-0.2589643104183045,Unknown,False,True,False
44,1,2,"Laroche, Miss. Simonne Marie Anne Andree",1,-1.8392482068747544,1,2,SC/Paris 2123,0.13018994031160347,Unknown,False,False,False
45,1,3,"Devaney, Miss. Margaret Delia",1,-0.7370405721877009,0,0,330958,-0.5070796449782959,Unknown,True,False,False
50,0,3,"Arnold-Franchi, Mrs. Josef (Josefine Franchi)",1,-0.8059285493556418,1,0,349237,-0.3194765559057727,Unknown,False,True,False
51,0,3,"Panula, Master. Juha Niilo",0,-1.5636962982029912,4,1,3101295,0.09441774819015235,Unknown,False,True,False
52,0,3,"Nosworthy, Mr. Richard Cater",0,-0.5992646178518193,0,0,A/4. 39886,-0.5085773230541109,Unknown,False,True,False
54,1,2,"Faunthorpe, Mrs. Lizzie (Elizabeth Anne Wilkinson)",1,-0.04816080050829252,1,0,2926,-0.16441392684413544,Unknown,False,True,False
57,1,2,"Rugg, Miss. Emily",1,-0.5992646178518193,0,0,C.A. 31026,-0.4575201159240595,Unknown,False,True,False
58,0,3,"Novel, Mr. Mansouer",0,-0.08260478909226295,0,0,2697,-0.519371194842938,Unknown,False,False,False
59,1,2,"West, Miss. Constance Mirium",1,-1.7014722525388728,1,2,C.A. 34651,-0.13132129259317626,Unknown,False,True,False
60,0,3,"Goodwin, Master. William Frederick",0,-1.2881443895312277,5,2,CA 2144,0.2308066764958912,Unknown,False,True,False
61,0,3,"Sirayanian, Mr. Orsen",0,-0.5303766406838785,0,0,2669,-0.519371194842938,Unknown,False,False,False
64,0,3,"Skoog, Master. Harald",0,-1.7703602297068137,3,2,347088,-0.12848478108595124,Unknown,False,True,False
67,1,2,"Nye, Mrs. (Elizabeth Ramell)",1,-0.04816080050829252,0,0,C.A. 29395,-0.4575201159240595,F33,False,True,False
68,0,3,"Crease, Mr. Ernest James",0,-0.7370405721877009,0,0,S.P. 3464,-0.5018018425671859,Unknown,False,True,False
69,1,3,"Andersson, Miss. Erna Alexandra",1,-0.8748165265235827,4,2,3101281,-0.5062135634647565,Unknown,False,True,False
70,0,3,"Kink, Mr. Vincenz",0,-0.25482473201211503,2,0,315151,-0.49226738188756664,Unknown,False,True,False
71,0,2,"Jenkin, Mr. Stephen Curnow",0,0.15850313099553,0,0,C.A. 33111,-0.4575201159240595,Unknown,False,True,False
72,0,3,"Goodwin, Miss. Lillian Amy",1,-0.9437045036915235,5,2,CA 2144,0.2308066764958912,Unknown,False,True,False
74,0,3,"Chronopoulos, Mr. Apostolos",0,-0.25482473201211503,1,0,2680,-0.3827458905782637,Unknown,False,False,False
76,0,3,"Moen, Mr. Sigurd Hansen",0,-0.3237127091800559,0,0,348123,-0.5114138345613359,F G73,False,True,False
79,1,2,"Caldwell, Master. Alden Gates",0,-1.9887351173291863,0,2,248738,-0.10768369669963401,Unknown,False,True,False
80,1,3,"Dowdell, Miss. Elizabeth",1,0.020727176659648322,0,0,364516,-0.4201727144122627,Unknown,False,True,False
81,0,3,"Waelens, Mr. Achille",0,-0.5303766406838785,0,0,345767,-0.48588523099631026,Unknown,False,True,False
82,1,3,"Sheerlinck, Mr. Jan Baptist",0,-0.04816080050829252,0,0,345779,-0.47643019263889336,Unknown,False,True,False
84,0,1,"Carrau, Mr. Francisco M",0,-0.11704877767623337,0,0,113059,0.234588691838858,Unknown,False,True,False
85,1,2,"Ilett, Miss. Bertha",1,-0.8748165265235827,0,0,SO/C 14885,-0.4575201159240595,Unknown,False,True,False
86,1,3,"Backstrom, Mrs. Karl Alfred (Maria Mathilda Gustafsson)",1,0.22739110816347086,3,0,3101278,-0.3563512054996986,Unknown,False,True,False
87,0,3,"Ford, Mr. William Neal",0,-0.9437045036915235,1,3,W./C. 6608,-0.006042034357402272,Unknown,False,True,False
90,0,3,"Celotti, Mr. Francesco",0,-0.3926006863479967,0,0,343275,-0.5038498038754023,Unknown,False,True,False
91,0,3,"Christmann, Mr. Emil",0,-0.04816080050829252,0,0,343276,-0.5038498038754023,Unknown,False,True,False
92,0,3,"Andreasson, Mr. Paul Edvin",0,-0.6681525950197601,0,0,347466,-0.5075523968961668,Unknown,False,True,False
94,0,3,"Dean, Mr. Bertram Frank",0,-0.25482473201211503,1,2,C.A. 2315,-0.2670010930221089,Unknown,False,True,False
95,0,3,"Coxon, Mr. Daniel",0,2.018478514529933,0,0,364500,-0.5189778652472694,Unknown,False,True,False
99,1,2,"Doling, Mrs. John T (Ada Julia Bone)",1,0.2962790853314117,0,1,231919,-0.22114415698863688,Unknown,False,True,False
100,0,2,"Kantor, Mr. Sinai",0,0.2962790853314117,1,0,244367,-0.16441392684413544,Unknown,False,True,False
101,0,3,"Petranec, Miss. Matilda",1,-0.11704877767623337,0,0,349245,-0.5067657377048297,Unknown,False,True,False
104,0,3,"Johansson, Mr. Gustaf Joel",0,0.22739110816347086,0,0,7540,-0.49242433552429976,Unknown,False,True,False
105,0,3,"Gustafsson, Mr. Anders Vilhelm",0,0.5029430168352342,2,0,3101276,-0.5062135634647565,Unknown,False,True,False
106,0,3,"Mionoff, Mr. Stoytcho",0,-0.11704877767623337,0,0,349207,-0.5067657377048297,Unknown,False,True,False
107,1,3,"Salkjelsvik, Miss. Anna Kristine",1,-0.5992646178518193,0,0,343120,-0.5114138345613359,Unknown,False,True,False
109,0,3,"Rekic, Mr. Tido",0,0.571830994003175,0,0,349249,-0.5067657377048297,Unknown,False,True,False
111,0,1,"Porter, Mr. Walter Chamberlain",0,1.1918227885146426,0,0,110465,0.32724806774154364,C110,False,True,False
112,0,3,"Zabour, Miss. Hileni",1,-1.0470364694434349,1,0,2665,-0.3827458905782637,Unknown,False,False,False
113,0,3,"Barton, Mr. David John",0,-0.5303766406838785,0,0,324669,-0.5038498038754023,Unknown,False,True,False
114,0,3,"Jussila, Miss. Katriina",1,-0.6681525950197601,1,0,4136,-0.47028441770657237,Unknown,False,True,False
115,0,3,"Attalah, Miss. Malake",1,-0.8748165265235827,0,0,2627,-0.3826683592637328,Unknown,False,False,False
116,0,3,"Pekoniemi, Mr. Edvard",0,-0.5992646178518193,0,0,STON/O 2. 3101294,-0.5062135634647565,Unknown,False,True,False
118,0,2,"Turpin, Mr. William John Robert",0,-0.04816080050829252,1,0,11668,-0.2589643104183045,Unknown,False,True,False
120,0,3,"Andersson, Miss. Ellis Anna Maria",1,-1.9081361840426954,4,2,347082,-0.06466327217338712,Unknown,False,True,False
123,0,2,"Nasser, Mr. Nicholas",0,0.19294711957950042,1,0,237736,-0.08743478655338999,Unknown,False,False,False
124,1,2,"Webber, Miss. Susan",1,0.19294711957950042,0,0,27267,-0.410244924136975,E101,False,True,False
126,1,3,"Nicola-Yarred, Master. Elias",0,-1.219256412363287,1,0,2651,-0.4434945120246673,Unknown,False,False,False
128,1,3,"Madsen, Mr. Fridtjof Arne",0,-0.3926006863479967,0,0,C 17369,-0.5210258265554859,Unknown,False,True,False
130,0,3,"Ekstrom, Mr. Johan",0,1.054046834178761,0,0,347061,-0.5241781363438487,Unknown,False,True,False
131,0,3,"Drazenoic, Mr. Jozef",0,0.22739110816347086,0,0,349241,-0.5067657377048297,Unknown,False,False,False
132,0,3,"Coelho, Mr. Domingos Fernandeo",0,-0.6681525950197601,0,0,SOTON/O.Q. 3101307,-0.5227598805902361,Unknown,False,True,False
133,0,3,"Robins, Mrs. Alexander A (Grace Charity Laury)",1,1.1918227885146426,1,0,A/5. 3337,-0.3818798090647243,Unknown,False,True,False
134,1,2,"Weisz, Mrs. Leopold (Mathilde Francoise Pede)",1,-0.04816080050829252,1,0,228414,-0.16441392684413544,Unknown,False,True,False
135,0,2,"Sobey, Mr. Samuel James Hayden",0,-0.3237127091800559,0,0,C.A. 29178,-0.410244924136975,Unknown,False,True,False
136,0,2,"Richard, Mr. Emile",0,-0.4614886635159376,0,0,SC/PARIS 2133,-0.371558689193768,Unknown,False,False,False
137,1,1,"Newsom, Miss. Helen Monypeny",1,-0.7370405721877009,0,2,11752,-0.159056702110823,D47,False,True,False
138,0,1,"Futrelle, Mr. Jacques Heath",0,0.5029430168352342,1,0,113803,0.34804915212786086,C123,False,True,False
139,0,3,"Osen, Mr. Olaf Elon",0,-0.9437045036915235,0,0,7534,-0.48178741737220576,Unknown,False,True,False
142,1,3,"Nysten, Miss. Anna Sofia",1,-0.5303766406838785,0,0,347081,-0.5095228268898525,Unknown,False,True,False
143,1,3,"Hakkarainen, Mrs. Pekka Pietari (Elin Matilda Dolck)",1,-0.3926006863479967,1,0,STON/O2. 3101279,-0.3563512054996986,Unknown,False,True,False
144,0,3,"Burke, Mr. Jeremiah",0,-0.7370405721877009,0,0,365222,-0.5284329036046863,Unknown,True,False,False
145,0,2,"Andrew, Mr. Edgardo Samuel",0,-0.8059285493556418,0,0,231945,-0.4386100392092257,Unknown,False,True,False
146,0,2,"Nicholls, Mr. Joseph Charles",0,-0.7370405721877009,1,1,C.A. 33112,0.03886939784032803,Unknown,False,True,False
147,1,3,"Andersson, Mr. August Edvard (""Wennerstrom"")",0,-0.1859367548441742,0,0,350043,-0.5086567453763131,Unknown,False,True,False
148,0,3,"Ford, Miss. Robina Maggie ""Ruby""",1,-1.4259203438671093,2,2,W./C. 6608,-0.006042034357402272,Unknown,False,True,False
149,0,2,"Navratil, Mr. Michel (""Louis M Hoffman"")",0,0.4684990282512638,0,2,230080,-0.16441392684413544,F2,False,True,False
150,0,2,"Byles, Rev. Thomas Roussel Davids",0,0.8473829026749384,0,0,244310,-0.410244924136975,Unknown,False,True,False
151,0,2,"Bateman, Rev. Robert James",0,1.4673746971864061,0,0,S.O.P. 1166,-0.41922721057652107,Unknown,False,True,False
153,0,3,"Meo, Mr. Alfonzo",0,1.7773705944421399,0,0,A.5. 11206,-0.5038498038754023,Unknown,False,True,False
154,0,3,"van Billiard, Mr. Austin Blyler",0,0.7440509369230272,0,2,A/5. 851,-0.3818798090647243,Unknown,False,True,False
157,1,3,"Gilnagh, Miss. Katherine ""Katie""",1,-0.9437045036915235,0,0,35851,-0.5098386251709902,Unknown,True,False,False
158,0,3,"Corn, Mr. Harry",0,0.020727176659648322,0,0,SOTON/OQ 392090,-0.5038498038754023,Unknown,False,True,False
161,0,3,"Cribb, Mr. John Hatfield",0,0.9851588570108202,0,1,371362,-0.35162368632099017,Unknown,False,True,False
162,1,2,"Watt, Mrs. James (Elizabeth ""Bessie"" Inglis Milne)",1,0.7096069483390568,0,0,C.A. 33595,-0.358242213171182,Unknown,False,True,False
163,0,3,"Bengtsson, Mr. John Viktor",0,-0.25482473201211503,0,0,347068,-0.5090500749719817,Unknown,False,True,False
164,0,3,"Calic, Mr. Jovo",0,-0.8748165265235827,0,0,315093,-0.49226738188756664,Unknown,False,True,False
165,0,3,"Panula, Master. Eino Viljami",0,-1.977024161210636,4,1,3101295,0.09441774819015235,Unknown,False,True,False
166,1,3,"Goldsmith, Master. Frank John William ""Frankie""",0,-1.4259203438671093,0,2,363291,-0.2679465968578506,Unknown,False,True,False
168,0,3,"Skoog, Mrs. William (Anna Bernhardina Karlsson)",1,1.054046834178761,1,4,347088,-0.12848478108595124,Unknown,False,True,False
172,0,3,"Rice, Master. Arthur",0,-1.7703602297068137,4,1,382652,-0.10531993711027979,Unknown,True,False,False
173,1,3,"Johnson, Miss. Eleanor Ileen",1,-1.977024161210636,1,1,347742,-0.4455443643405553,Unknown,False,True,False
174,0,3,"Sivola, Mr. Antti Wilhelm",0,-0.5992646178518193,0,0,STON/O 2. 3101280,-0.5062135634647565,Unknown,False,True,False
175,0,1,"Smith, Mr. James Clinch",0,1.8118145830261103,0,0,17764,-0.07561598860661886,A7,False,False,False
176,0,3,"Klasen, Mr. Klas Albin",0,-0.8059285493556418,1,1,350404,-0.5075523968961668,Unknown,False,True,False
178,0,1,"Isham, Miss. Ann Elizabeth",1,1.3984867200184652,0,0,PC 17595,-0.11312034375514876,C49,False,False,False
179,0,2,"Hale, Mr. Reginald",0,0.020727176659648322,0,0,250653,-0.410244924136975,Unknown,False,True,False
180,0,3,"Leonard, Mr. Lionel",0,0.43405503966729336,0,0,LINE,-0.6560759214298145,Unknown,False,True,False
183,0,3,"Asplund, Master. Clarence Gustaf Hugo",0,-1.4259203438671093,4,2,347077,-0.0625358885429683,Unknown,False,True,False
184,1,2,"Becker, Master. Richard F",0,-1.977024161210636,2,1,230136,0.08141707044870411,F4,False,True,False
185,1,3,"Kink-Heilmann, Miss. Luise Gretchen",1,-1.7703602297068137,0,2,315153,-0.23958148178559988,Unknown,False,True,False
188,1,1,"Romaine, Mr. Charles Hallace (""Mr C Rolmane"")",0,1.054046834178761,0,0,111428,-0.15401338465097683,Unknown,False,True,False
189,0,3,"Bourke, Mr. John",0,0.7096069483390568,1,1,364849,-0.3629697323498905,Unknown,True,False,False
190,0,3,"Turcin, Mr. Stjepan",0,0.43405503966729336,0,0,349247,-0.5067657377048297,Unknown,False,True,False
191,1,2,"Pinsky, Mrs. (Rosa)",1,0.15850313099553,0,0,234604,-0.410244924136975,Unknown,False,True,False
192,0,2,"Carbines, Mr. William",0,-0.7370405721877009,0,0,28424,-0.410244924136975,Unknown,False,True,False
193,1,3,"Andersen-Jensen, Miss. Carla Christine Nielsine",1,-0.7370405721877009,1,0,350046,-0.5075523968961668,Unknown,False,True,False
194,1,2,"Navratil, Master. Michel M",0,-1.8392482068747544,1,1,230080,-0.16441392684413544,F2,False,True,False
195,1,1,"Brown, Mrs. James Joseph (Margaret Tobin)",1,0.9851588570108202,0,0,PC 17610,-0.1318734668332494,B4,False,False,False
198,0,3,"Olsen, Mr. Karl Siegwart Andreas",0,0.8473829026749384,0,1,4579,-0.49715185470300827,Unknown,False,True,False
200,0,2,"Yrois, Miss. Henriette (""Mrs Harbeck"")",1,-0.3926006863479967,0,0,248747,-0.410244924136975,Unknown,False,True,False
201,0,3,"Vande Walle, Mr. Nestor Cyriel",0,-0.11704877767623337,0,0,345770,-0.47643019263889336,Unknown,False,True,False
203,0,3,"Johanson, Mr. Jakob Alfred",0,0.2962790853314117,0,0,3101264,-0.5332398451055971,Unknown,False,True,False
204,0,3,"Youseff, Mr. Gerious",0,1.0884908227627315,0,0,2628,-0.5194506171651402,Unknown,False,False,False
205,1,3,"Cohen, Mr. Gurshon ""Gus""",0,-0.8059285493556418,0,0,A/5 3540,-0.5038498038754023,Unknown,False,True,False
206,0,3,"Strom, Miss. Telma Matilda",1,-1.9081361840426954,0,1,347054,-0.4582292438008658,G6,False,True,False
207,0,3,"Backstrom, Mr. Karl Alfred",0,0.15850313099553,1,0,3101278,-0.3563512054996986,Unknown,False,True,False
208,1,3,"Albimona, Mr. Nassef Cassem",0,-0.25482473201211503,0,0,2699,-0.30080285514987426,Unknown,False,False,False
209,1,3,"Carr, Miss. Helen ""Ellen""",1,-0.9437045036915235,0,0,367231,-0.5095228268898525,Unknown,True,False,False
210,1,1,"Blank, Mr. Henry",0,0.7096069483390568,0,0,112277,-0.06986354326996638,A31,False,False,False
211,0,3,"Ali, Mr. Ahmed",0,-0.3926006863479967,0,0,SOTON/O.Q. 3101311,-0.5227598805902361,Unknown,False,True,False
212,1,2,"Cameron, Miss. Clear Annie",1,0.36516706249935255,0,0,F.C.C. 13528,-0.2589643104183045,Unknown,False,True,False
213,0,3,"Perkin, Mr. John Henry",0,-0.5303766406838785,0,0,A/5 21174,-0.5189778652472694,Unknown,False,True,False
214,0,2,"Givard, Mr. Hans Kristensen",0,0.020727176659648322,0,0,250646,-0.410244924136975,Unknown,False,True,False
217,1,3,"Honkanen, Miss. Eliina",1,-0.1859367548441742,0,0,STON/O2. 3101283,-0.5062135634647565,Unknown,False,True,False
218,0,2,"Jacobsohn, Mr. Sidney Samuel",0,0.8473829026749384,1,0,243847,-0.14550385012930164,Unknown,False,True,False
220,0,2,"Harris, Mr. Walter",0,0.020727176659648322,0,0,W/C 14208,-0.4575201159240595,Unknown,False,True,False
221,1,3,"Sunderland, Mr. Victor Francis",0,-0.9437045036915235,0,0,SOTON/OQ 392089,-0.5038498038754023,Unknown,False,True,False
222,0,2,"Bracken, Mr. James H",0,-0.1859367548441742,0,0,220367,-0.410244924136975,Unknown,False,True,False
223,0,3,"Green, Mr. George Henry",0,1.4673746971864061,0,0,21440,-0.5038498038754023,Unknown,False,True,False
226,0,3,"Berglund, Mr. Karl Ivar Sven",0,-0.5303766406838785,0,0,PP 4348,-0.4792667041461184,Unknown,False,True,False
227,1,2,"Mellors, Mr. William John",0,-0.7370405721877009,0,0,SW/PP 751,-0.4575201159240595,Unknown,False,True,False
228,0,3,"Lovell, Mr. John Hall (""Henry"")",0,-0.6337086064357897,0,0,A/5 21173,-0.5189778652472694,Unknown,False,True,False
229,0,2,"Fahlstrom, Mr. Arne Jonas",0,-0.8059285493556418,0,0,236171,-0.410244924136975,Unknown,False,True,False
232,0,3,"Larsson, Mr. Bengt Edvin",0,-0.04816080050829252,0,0,347067,-0.5090500749719817,Unknown,False,True,False
233,0,2,"Sjostedt, Mr. Ernst Adolf",0,2.018478514529933,0,0,237442,-0.4007898857795581,Unknown,False,True,False
234,1,3,"Asplund, Miss. Lillian Gertrud",1,-1.7014722525388728,4,2,347077,-0.0625358885429683,Unknown,False,True,False
235,0,2,"Leyson, Mr. Robert William Norman",0,-0.3926006863479967,0,0,C.A. 29566,-0.4575201159240595,Unknown,False,True,False
237,0,2,"Hold, Mr. Stephen",0,0.9851588570108202,1,0,26707,-0.16441392684413544,Unknown,False,True,False
238,1,2,"Collyer, Miss. Marjorie ""Lottie""",1,-1.4948083210350502,0,2,C.A. 31921,-0.159686407665427,Unknown,False,True,False
239,0,2,"Pengelly, Mr. Frederick William",0,-0.7370405721877009,0,0,28665,-0.4575201159240595,Unknown,False,True,False
240,0,2,"Hunt, Mr. George Henry",0,0.22739110816347086,0,0,SCO/W 1585,-0.4239547297552295,Unknown,False,True,False
243,0,2,"Coleridge, Mr. Reginald Charles",0,-0.04816080050829252,0,0,W./C. 14263,-0.4575201159240595,Unknown,False,True,False
244,0,3,"Maenpaa, Mr. Matti Alexanteri",0,-0.5303766406838785,0,0,STON/O 2. 3101275,-0.5213416248366236,Unknown,False,True,False
245,0,3,"Attalah, Mr. Sleiman",0,0.020727176659648322,0,0,2694,-0.5194506171651402,Unknown,False,False,False
247,0,3,"Lindahl, Miss. Agda Thorilda Viktoria",1,-0.3237127091800559,0,0,347071,-0.5090500749719817,Unknown,False,True,False
248,1,2,"Hamalainen, Mrs. William (Anna)",1,-0.3926006863479967,0,2,250649,-0.3818798090647243,Unknown,False,True,False
249,1,1,"Beckwith, Mr. Richard Leonard",0,0.5029430168352342,1,1,11751,0.33772803225690456,D35,False,True,False
250,0,2,"Carter, Rev. Ernest Courtenay",0,1.6740386286902287,1,0,244252,-0.16441392684413544,Unknown,False,True,False
252,0,3,"Strom, Mrs. Wilhelm (Elna Matilda Persson)",1,-0.04816080050829252,1,1,347054,-0.4582292438008658,G6,False,True,False
254,0,3,"Lobb, Mr. William Arthur",0,0.020727176659648322,1,0,A/5. 3336,-0.35162368632099017,Unknown,False,True,False
255,0,3,"Rosblom, Mrs. Viktor (Helena Wilhelmina)",1,0.7784949255069976,0,2,370129,-0.27385599583123615,Unknown,False,True,False
256,1,3,"Touma, Mrs. Darwis (Hanne Youssef Razi)",1,-0.04816080050829252,0,2,2650,-0.36777667385080126,Unknown,False,False,False
260,1,2,"Parrish, Mrs. (Lutie Davis)",1,1.3984867200184652,0,1,230433,-0.16441392684413544,Unknown,False,True,False
262,1,3,"Asplund, Master. Edvin Rojj Felix",0,-1.8392482068747544,4,2,347077,-0.0625358885429683,Unknown,False,True,False
264,0,1,"Harrison, Mr. William",0,0.7096069483390568,0,0,112059,-0.6560759214298145,B94,False,True,False
266,0,2,"Reeves, Mr. David",0,0.43405503966729336,0,0,C.A. 17248,-0.4575201159240595,Unknown,False,True,False
267,0,3,"Panula, Mr. Ernesti Arvid",0,-0.9437045036915235,4,1,3101295,0.09441774819015235,Unknown,False,True,False
268,1,3,"Persson, Mr. Ernst Ulrik",0,-0.3237127091800559,1,0,347083,-0.5090500749719817,Unknown,False,True,False
272,1,3,"Tornquist, Mr. William Henry",0,-0.3237127091800559,0,0,LINE,-0.6560759214298145,Unknown,False,True,False
273,1,2,"Mellinger, Mrs. (Elizabeth Anne Maidment)",1,0.7784949255069976,0,1,250644,-0.28732942549055523,Unknown,False,True,False
274,0,1,"Natsch, Mr. Charles H",0,0.5029430168352342,0,1,PC 17596,-0.09444664299925036,C118,False,False,False
277,0,3,"Lindblom, Miss. Augusta Charlotta",1,1.054046834178761,0,0,347073,-0.5095228268898525,Unknown,False,True,False
279,0,3,"Rice, Master. Eric",0,-1.5636962982029912,4,1,382652,-0.10531993711027979,Unknown,True,False,False
280,1,3,"Abbott, Mrs. Stanton (Rosa Hunt)",1,0.36516706249935255,1,1,C.A. 2673,-0.2731468679544299,Unknown,False,True,False
282,0,3,"Olsson, Mr. Nils Johan Goransson",0,-0.11704877767623337,0,0,347464,-0.5075523968961668,Unknown,False,True,False
283,0,3,"de Pelsmaeker, Mr. Alfons",0,-0.9437045036915235,0,0,345778,-0.47643019263889336,Unknown,False,True,False
284,1,3,"Dorking, Mr. Edward Arthur",0,-0.7370405721877009,0,0,A/5. 10482,-0.5038498038754023,Unknown,False,True,False
286,0,3,"Stankovic, Mr. Ivan",0,0.22739110816347086,0,0,349239,-0.49226738188756664,Unknown,False,False,False
287,1,3,"de Mulder, Mr. Theodore",0,0.020727176659648322,0,0,345774,-0.47643019263889336,Unknown,False,True,False
288,0,3,"Naidenoff, Mr. Penko",0,-0.5303766406838785,0,0,349206,-0.5067657377048297,Unknown,False,True,False
289,1,2,"Hosono, Mr. Masabumi",0,0.8473829026749384,0,0,237798,-0.410244924136975,Unknown,False,True,False
290,1,3,"Connolly, Miss. Kate",1,-0.5303766406838785,0,0,370373,-0.5095228268898525,Unknown,True,False,False
293,0,2,"Levy, Mr. Rene Jacques",0,0.43405503966729336,0,0,SC/Paris 2163,-0.41260868372632925,D,False,False,False
294,0,3,"Haas, Miss. Aloisia",1,-0.3926006863479967,0,0,349236,-0.4887217425035353,Unknown,False,True,False
295,0,3,"Mineff, Mr. Ivan",0,-0.3926006863479967,0,0,349233,-0.5067657377048297,Unknown,False,True,False
297,0,3,"Hanna, Mr. Mansour",0,-0.4270446749319672,0,0,2693,-0.519371194842938,Unknown,False,False,False
303,0,3,"Johnson, Mr. William Cahoone Jr",0,-0.7370405721877009,0,0,LINE,-0.6560759214298145,Unknown,False,True,False
309,0,2,"Abelson, Mr. Samuel",0,0.020727176659648322,1,0,P/PP 3381,-0.20223408027380307,Unknown,False,False,False
313,0,2,"Lahtinen, Mrs. William (Anna Sylfven)",1,-0.25482473201211503,1,1,250651,-0.16441392684413544,Unknown,False,True,False
314,0,3,"Hendekovic, Mr. Ignjac",0,-0.11704877767623337,0,0,349243,-0.5067657377048297,Unknown,False,True,False
315,0,2,"Hart, Mr. Benjamin",0,0.9162708798428792,1,1,F.C.C. 13529,-0.159686407665427,Unknown,False,True,False
316,1,3,"Nilsson, Miss. Helmina Josefina",1,-0.25482473201211503,0,0,347470,-0.5075523968961668,Unknown,False,True,False
317,1,2,"Kantor, Mrs. Sinai (Miriam Sternin)",1,-0.3926006863479967,1,0,244367,-0.16441392684413544,Unknown,False,True,False
318,0,2,"Moraweck, Dr. Ernest",0,1.6740386286902287,0,0,29011,-0.3913348474221412,Unknown,False,True,False
321,0,3,"Dennis, Mr. Samuel",0,-0.5303766406838785,0,0,A/5 21172,-0.5189778652472694,Unknown,False,True,False
322,0,3,"Danoff, Mr. Yoto",0,-0.1859367548441742,0,0,349219,-0.5067657377048297,Unknown,False,True,False
323,1,2,"Slayter, Miss. Hilda Mary",1,0.020727176659648322,0,0,234818,-0.4225364740016169,Unknown,True,False,False
324,1,2,"Caldwell, Mrs. Albert Francis (Sylvia Mae Harbaugh)",1,-0.5303766406838785,1,1,248738,-0.10768369669963401,Unknown,False,True,False
328,1,2,"Ball, Mrs. (Ada E Hall)",1,0.43405503966729336,0,0,28551,-0.410244924136975,D,False,True,False
329,1,3,"Goldsmith, Mrs. Frank John (Emily Alice Brown)",1,0.08961515382758917,1,1,363291,-0.2679465968578506,Unknown,False,True,False
332,0,1,"Partner, Mr. Austen",0,1.0884908227627315,0,0,113043,-0.11713873505705091,C124,False,True,False
334,0,3,"Vander Planke, Mr. Leo Edmondus",0,-0.9437045036915235,2,0,345764,-0.31569454056280594,Unknown,False,True,False
339,1,3,"Dahl, Mr. Karl Edwart",0,1.054046834178761,0,0,7598,-0.5038498038754023,Unknown,False,True,False
340,0,1,"Blackwell, Mr. Stephen Weart",0,1.054046834178761,0,0,113784,0.015231801946785766,T,False,True,False
341,1,2,"Navratil, Master. Edmond Roger",0,-1.9081361840426954,1,1,230080,-0.16441392684413544,F2,False,True,False
343,0,2,"Collander, Mr. Erik Gustaf",0,-0.11704877767623337,0,0,248740,-0.410244924136975,Unknown,False,True,False
344,0,2,"Sedgwick, Mr. Charles Frederick Waddington",0,-0.3237127091800559,0,0,244361,-0.410244924136975,Unknown,False,True,False
345,0,2,"Fox, Mr. Stanley Hubert",0,0.43405503966729336,0,0,229236,-0.410244924136975,Unknown,False,True,False
346,1,2,"Brown, Miss. Amelia ""Mildred""",1,-0.3926006863479967,0,0,248733,-0.410244924136975,F33,False,True,False
347,1,2,"Smith, Miss. Marion Elsie",1,0.7096069483390568,0,0,31418,-0.410244924136975,Unknown,False,True,False
349,1,3,"Coutts, Master. William Loch ""William""",0,-1.8392482068747544,1,1,C.A. 37671,-0.35540570166395696,Unknown,False,True,False
350,0,3,"Dimic, Mr. Jovan",0,0.8473829026749384,0,0,315088,-0.49226738188756664,Unknown,False,True,False
351,0,3,"Odahl, Mr. Nils Martin",0,-0.4614886635159376,0,0,7267,-0.48163046373547264,Unknown,False,True,False
353,0,3,"Elias, Mr. Tannous",0,-1.0125924808594644,1,1,2695,-0.519371194842938,Unknown,False,False,False
354,0,3,"Arnold-Franchi, Mr. Josef",0,-0.3237127091800559,1,0,349237,-0.3194765559057727,Unknown,False,True,False
356,0,3,"Vanden Steen, Mr. Leo Peter",0,-0.11704877767623337,0,0,345783,-0.47643019263889336,Unknown,False,True,False
358,0,2,"Funk, Miss. Annie Clemmer",1,0.571830994003175,0,0,237671,-0.410244924136975,Unknown,False,True,False
361,0,3,"Skoog, Mr. Wilhelm",0,0.7096069483390568,1,4,347088,-0.12848478108595124,Unknown,False,True,False
362,0,2,"del Carlo, Mr. Sebastiano",0,-0.04816080050829252,1,0,SC/PARIS 2167,-0.1318734668332494,Unknown,False,False,False
363,0,3,"Barbara, Mrs. (Catherine David)",1,1.054046834178761,0,1,2691,-0.3827458905782637,Unknown,False,False,False
364,0,3,"Asim, Mr. Adola",0,0.36516706249935255,0,0,SOTON/O.Q. 3101310,-0.5227598805902361,Unknown,False,True,False
366,0,3,"Adahl, Mr. Mauritz Nils Martin",0,0.020727176659648322,0,0,C 7076,-0.5189778652472694,Unknown,False,True,False
372,0,3,"Wiklund, Mr. Jakob Alfred",0,-0.8059285493556418,1,0,3101267,-0.5332398451055971,Unknown,False,True,False
373,0,3,"Beavan, Mr. William Thomas",0,-0.7370405721877009,0,0,323951,-0.5038498038754023,Unknown,False,True,False
375,0,3,"Palsson, Miss. Stina Viola",1,-1.8392482068747544,3,1,349909,-0.257546054664692,Unknown,False,True,False
377,1,3,"Landergren, Miss. Aurora Adelia",1,-0.5303766406838785,0,0,C 7077,-0.5189778652472694,Unknown,False,True,False
379,0,3,"Betros, Mr. Tannous",0,-0.6681525950197601,0,0,2648,-0.5801992386115439,Unknown,False,False,False
380,0,3,"Gustafsson, Mr. Karl Gideon",0,-0.7370405721877009,0,0,347069,-0.5090500749719817,Unknown,False,True,False
382,1,3,"Nakid, Miss. Maria (""Mary"")",1,-1.977024161210636,0,2,2653,-0.3583991668079151,Unknown,False,False,False
383,0,3,"Tikkanen, Mr. Juho",0,0.15850313099553,0,0,STON/O 2. 3101293,-0.5062135634647565,Unknown,False,True,False
384,1,1,"Holverson, Mrs. Alexander Oskar (Mary Aline Towner)",1,0.36516706249935255,1,0,113789,0.32724806774154364,Unknown,False,True,False
387,0,3,"Goodwin, Master. Sidney Leonard",0,-1.977024161210636,5,2,CA 2144,0.2308066764958912,Unknown,False,True,False
388,1,2,"Buss, Miss. Kate",1,0.43405503966729336,0,0,27849,-0.410244924136975,Unknown,False,True,False
390,1,2,"Lehmann, Miss. Bertha",1,-0.8748165265235827,0,0,SC 1748,-0.4291550008518088,Unknown,False,False,False
392,1,3,"Jansson, Mr. Carl Olof",0,-0.5992646178518193,0,0,350034,-0.5086567453763131,Unknown,False,True,False
393,0,3,"Gustafsson, Mr. Johan Birger",0,-0.11704877767623337,2,0,3101277,-0.5062135634647565,Unknown,False,True,False
395,1,3,"Sandstrom, Mrs. Hjalmar (Agnes Charlotta Bengtsson)",1,-0.3926006863479967,0,2,PP 9549,-0.3402776402920899,G6,False,True,False
396,0,3,"Johansson, Mr. Erik",0,-0.5303766406838785,0,0,350052,-0.5086567453763131,Unknown,False,True,False
397,0,3,"Olsson, Miss. Elina",1,0.08961515382758917,0,0,350407,-0.5075523968961668,Unknown,False,True,False
398,0,2,"McKane, Mr. Peter David",0,1.122934811346702,0,0,28403,-0.16441392684413544,Unknown,False,True,False
399,0,2,"Pain, Dr. Alfred",0,-0.4614886635159376,0,0,244278,-0.4575201159240595,Unknown,False,True,False
400,1,2,"Trout, Mrs. William H (Jessie L)",1,-0.11704877767623337,0,0,240929,-0.4168634509871669,Unknown,False,True,False
401,1,3,"Niskanen, Mr. Juha",0,0.6407189711711159,0,0,STON/O 2. 3101289,-0.5062135634647565,Unknown,False,True,False
402,0,3,"Adams, Mr. John",0,-0.25482473201211503,0,0,341826,-0.5038498038754023,Unknown,False,True,False
403,0,3,"Jussila, Miss. Mari Aina",1,-0.5992646178518193,1,0,4137,-0.47028441770657237,Unknown,False,True,False
404,0,3,"Hakkarainen, Mr. Pekka Pietari",0,-0.11704877767623337,1,0,STON/O2. 3101279,-0.3563512054996986,Unknown,False,True,False
405,0,3,"Oreskovic, Miss. Marija",1,-0.6681525950197601,0,0,315096,-0.49226738188756664,Unknown,False,True,False
406,0,2,"Gale, Mr. Shadrach",0,0.2962790853314117,1,0,28664,-0.2589643104183045,Unknown,False,True,False
407,0,3,"Widegren, Mr. Carl/Charles Peter",0,1.4673746971864061,0,0,347064,-0.5095228268898525,Unknown,False,True,False
408,1,2,"Richards, Master. William Rowe",0,-1.8392482068747544,1,1,29106,-0.3015119830266806,Unknown,False,True,False
409,0,3,"Birkeland, Mr. Hans Martin Monsen",0,-0.5992646178518193,0,0,312992,-0.5090500749719817,Unknown,False,True,False
415,1,3,"Sundman, Mr. Johan Julian",0,0.9851588570108202,0,0,STON/O 2. 3101269,-0.5062135634647565,Unknown,False,True,False
417,1,2,"Drew, Mrs. James Vivian (Lulu Thorne Christian)",1,0.2962790853314117,1,1,28220,-0.04149842819771567,Unknown,False,True,False
418,1,2,"Silven, Miss. Lyyli Karoliina",1,-0.8059285493556418,0,2,250652,-0.410244924136975,Unknown,False,True,False
419,0,2,"Matthews, Mr. William John",0,0.020727176659648322,0,0,28228,-0.410244924136975,Unknown,False,True,False
420,0,3,"Van Impe, Miss. Catharina",1,-1.3570323666991686,0,2,345773,-0.19939756876657802,Unknown,False,True,False
422,0,3,"Charters, Mr. David",0,-0.5992646178518193,0,0,A/5. 13032,-0.5098386251709902,Unknown,True,False,False
423,0,3,"Zimmerman, Mr. Leo",0,-0.04816080050829252,0,0,315082,-0.5071590673004983,Unknown,False,True,False
424,0,3,"Danbom, Mrs. Ernst Gilbert (Anna Sigrid Maria Brogren)",1,-0.11704877767623337,1,1,347080,-0.38377081673620766,Unknown,False,True,False
425,0,3,"Rosblom, Mr. Viktor Richard",0,-0.8059285493556418,1,1,370129,-0.27385599583123615,Unknown,False,True,False
427,1,2,"Clarke, Mrs. Charles V (Ada Maria Winfield)",1,-0.11704877767623337,1,0,2003,-0.16441392684413544,Unknown,False,True,False
428,1,2,"Phillips, Miss. Kate Florence (""Mrs Kate Louise Phillips Marshall"")",1,-0.7370405721877009,0,0,250655,-0.16441392684413544,Unknown,False,True,False
430,1,3,"Pickard, Mr. Berk (Berk Trembisky)",0,0.15850313099553,0,0,SOTON/O.Q. 392078,-0.5038498038754023,E10,False,True,False
431,1,1,"Bjornstrom-Steffansson, Mr. Mauritz Hakan",0,-0.11704877767623337,0,0,110564,-0.15401338465097683,C52,False,True,False
433,1,2,"Louch, Mrs. Charles Alexander (Alice Adelaide Slow)",1,0.8473829026749384,1,0,SC/AH 3085,-0.16441392684413544,Unknown,False,True,False
434,0,3,"Kallio, Mr. Nikolai Erland",0,-0.8748165265235827,0,0,STON/O 2. 3101274,-0.5213416248366236,Unknown,False,True,False
437,0,3,"Ford, Miss. Doolina Margaret ""Daisy""",1,-0.5992646178518193,2,2,W./C. 6608,-0.006042034357402272,Unknown,False,True,False
438,1,2,"Richards, Mrs. Sidney (Emily Hocking)",1,-0.3926006863479967,2,3,29106,-0.3015119830266806,Unknown,False,True,False
440,0,2,"Kvillner, Mr. Johan Henrik Johannesson",0,0.08961515382758917,0,0,C.A. 18723,-0.4575201159240595,Unknown,False,True,False
441,1,2,"Hart, Mrs. Benjamin (Esther Ada Bloomfield)",1,1.054046834178761,1,1,F.C.C. 13529,-0.159686407665427,Unknown,False,True,False
442,0,3,"Hampe, Mr. Leon",0,-0.6681525950197601,0,0,345769,-0.47643019263889336,Unknown,False,True,False
443,0,3,"Petterson, Mr. Johan Emil",0,-0.3237127091800559,1,0,347076,-0.5090500749719817,Unknown,False,True,False
444,1,2,"Reynaldo, Ms. Encarnacion",1,-0.11704877767623337,0,0,230434,-0.410244924136975,Unknown,False,True,False
447,1,2,"Mellinger, Miss. Madeleine Violet",1,-1.150368435195346,0,1,250644,-0.28732942549055523,Unknown,False,True,False
448,1,1,"Seward, Mr. Frederic Kimber",0,0.2962790853314117,0,0,113794,-0.15401338465097683,Unknown,False,True,False
449,1,3,"Baclini, Miss. Marie Catherine",1,-1.7014722525388728,2,1,2666,-0.29189999103253056,Unknown,False,False,False
450,1,1,"Peuchen, Major. Arthur Godfrey",0,1.5362626743543468,0,0,113786,-0.0793185816273833,C104,False,True,False
451,0,2,"West, Mr. Edwy Arthur",0,0.43405503966729336,1,2,C.A. 34651,-0.13132129259317626,Unknown,False,True,False
453,0,1,"Foreman, Mr. Benjamin Laventall",0,0.020727176659648322,0,0,113051,-0.13132129259317626,C111,False,False,False
456,1,3,"Jalsevac, Mr. Ivan",0,-0.04816080050829252,0,0,349240,-0.5067657377048297,Unknown,False,False,False
459,1,2,"Toomey, Miss. Ellen",1,1.3984867200184652,0,0,F.C.C. 13531,-0.4575201159240595,Unknown,False,True,False
461,1,1,"Anderson, Mr. Harry",0,1.2607107656825836,0,0,19952,-0.15401338465097683,E12,False,True,False
462,0,3,"Morley, Mr. William",0,0.2962790853314117,0,0,364506,-0.5038498038754023,Unknown,False,True,False
463,0,1,"Gee, Mr. Arthur H",0,1.1918227885146426,0,0,111320,0.0719620320912872,E63,False,True,False
464,0,2,"Milling, Mr. Jacob Christian",0,1.2607107656825836,0,0,234360,-0.410244924136975,Unknown,False,True,False
466,0,3,"Goncalves, Mr. Manuel Estanslas",0,0.571830994003175,0,0,SOTON/O.Q. 3101306,-0.5227598805902361,Unknown,False,True,False
468,0,1,"Smart, Mr. John Montgomery",0,1.8118145830261103,0,0,113792,-0.15401338465097683,Unknown,False,True,False
470,1,3,"Baclini, Miss. Helene Barbara",1,-1.9942461555026214,2,1,2666,-0.29189999103253056,Unknown,False,False,False
472,0,3,"Cacic, Mr. Luka",0,0.571830994003175,0,0,315089,-0.49226738188756664,Unknown,False,True,False
473,1,2,"West, Mrs. Edwy Arthur (Ada Mary Worth)",1,0.22739110816347086,1,2,C.A. 34651,-0.13132129259317626,Unknown,False,True,False
474,1,2,"Jerwan, Mrs. Amin S (Marie Marthe Thuillard)",1,-0.4614886635159376,0,0,SC/AH Basle 541,-0.3952738164018411,D,False,False,False
475,0,3,"Strandberg, Miss. Ida Sofia",1,-0.5303766406838785,0,0,7553,-0.470048041747637,Unknown,False,True,False
477,0,2,"Renouf, Mr. Peter Henry",0,0.2962790853314117,1,0,31027,-0.2589643104183045,Unknown,False,True,False
478,0,3,"Braund, Mr. Lewis Richard",0,-0.04816080050829252,1,0,3460,-0.5228393029124385,Unknown,False,True,False
479,0,3,"Karlsson, Mr. Nils August",0,-0.5303766406838785,0,0,350060,-0.5138570164728924,Unknown,False,True,False
480,1,3,"Hirvonen, Miss. Hildur E",1,-1.9081361840426954,0,1,3101298,-0.4237183537962941,Unknown,False,True,False
481,0,3,"Goodwin, Master. Harold Victor",0,-1.4259203438671093,5,2,CA 2144,0.2308066764958912,Unknown,False,True,False
483,0,3,"Rouse, Mr. Richard Henry",0,1.3984867200184652,0,0,A/5 3594,-0.5038498038754023,Unknown,False,True,False
488,0,1,"Kent, Mr. Edward Austin",0,1.949590537361992,0,0,11771,-0.09444664299925036,B37,False,False,False
489,0,3,"Somerton, Mr. Francis William",0,0.020727176659648322,0,0,A.5. 18509,-0.5038498038754023,Unknown,False,True,False
490,1,3,"Coutts, Master. Eden Leslie ""Neville""",0,-1.4259203438671093,1,1,C.A. 37671,-0.35540570166395696,Unknown,False,True,False
492,0,3,"Windelov, Mr. Einar",0,-0.5992646178518193,0,0,SOTON/OQ 3101317,-0.5189778652472694,Unknown,False,True,False
493,0,1,"Molson, Mr. Harry Markland",0,1.7429266058581694,0,0,113787,-0.0793185816273833,C30,False,True,False
495,0,3,"Stanley, Mr. Edward Roland",0,-0.5992646178518193,0,0,A/4 45380,-0.5038498038754023,Unknown,False,True,False
500,0,3,"Svensson, Mr. Olof",0,-0.3926006863479967,0,0,350035,-0.5086567453763131,Unknown,False,True,False
501,0,3,"Calic, Mr. Petar",0,-0.8748165265235827,0,0,315086,-0.49226738188756664,Unknown,False,True,False
502,0,3,"Canavan, Miss. Mary",1,-0.5992646178518193,0,0,364846,-0.5095228268898525,Unknown,True,False,False
504,0,3,"Laitinen, Miss. Kristina Sofia",1,0.5029430168352342,0,0,4135,-0.47477556092634543,Unknown,False,True,False
507,1,2,"Quick, Mrs. Frederick Charles (Jane Richards)",1,0.22739110816347086,0,2,26360,-0.16441392684413544,Unknown,False,True,False
509,0,3,"Olsen, Mr. Henry Margido",0,-0.11704877767623337,0,0,C 4001,-0.23012644342818298,Unknown,False,True,False
511,1,3,"Daly, Mr. Eugene Patrick",0,-0.04816080050829252,0,0,382651,-0.5095228268898525,Unknown,True,False,False
513,1,1,"McGough, Mr. James Robert",0,0.43405503966729336,0,0,PC 17473,-0.1589772797886207,E25,False,True,False
515,0,3,"Coleff, Mr. Satio",0,-0.3926006863479967,0,0,349209,-0.5143297683907633,Unknown,False,True,False
516,0,1,"Walker, Mr. William Anderson",0,1.1918227885146426,0,0,36967,-0.012739983529796384,D46,False,True,False
517,1,2,"Lemore, Mrs. (Amelia Milley)",1,0.2962790853314117,0,0,C.A. 34260,-0.4575201159240595,F33,False,True,False
519,1,2,"Angle, Mrs. William A (Florence ""Mary"" Agnes Hughes)",1,0.43405503966729336,1,0,226875,-0.16441392684413544,Unknown,False,True,False
520,0,3,"Pavlovic, Mr. Stefo",0,0.15850313099553,0,0,349242,-0.5067657377048297,Unknown,False,True,False
522,0,3,"Vovk, Mr. Janko",0,-0.5303766406838785,0,0,349252,-0.5067657377048297,Unknown,False,True,False
526,0,3,"Farrell, Mr. James",0,0.7440509369230272,0,0,367232,-0.5095228268898525,Unknown,True,False,False
527,1,2,"Ridsdale, Miss. Lucy",1,1.3984867200184652,0,0,W./C. 14258,-0.4575201159240595,Unknown,False,True,False
529,0,3,"Salonen, Mr. Johan Werner",0,0.6407189711711159,0,0,3101296,-0.5062135634647565,Unknown,False,True,False
530,0,2,"Hocking, Mr. Richard George",0,-0.4614886635159376,2,1,29104,-0.4386100392092257,Unknown,False,True,False
531,1,2,"Quick, Miss. Phyllis May",1,-1.9081361840426954,1,1,26360,-0.16441392684413544,Unknown,False,True,False
533,0,3,"Elias, Mr. Joseph Jr",0,-0.8748165265235827,1,1,2690,-0.519371194842938,Unknown,False,False,False
535,0,3,"Cacic, Miss. Marija",1,0.020727176659648322,0,0,315084,-0.49226738188756664,Unknown,False,True,False
536,1,2,"Hart, Miss. Eva Miriam",1,-1.5636962982029912,0,2,F.C.C. 13529,-0.159686407665427,Unknown,False,True,False
537,0,1,"Butt, Major. Archibald Willingham",0,1.054046834178761,0,0,113050,-0.15401338465097683,B38,False,True,False
540,1,1,"Frolicher, Miss. Hedwig Margaritha",1,-0.5303766406838785,0,2,13568,0.27997287595445913,B39,False,False,False
542,0,3,"Andersson, Miss. Ingeborg Constanzia",1,-1.4259203438671093,4,2,347082,-0.06466327217338712,Unknown,False,True,False
543,0,3,"Andersson, Miss. Sigrid Elisabeth",1,-1.2881443895312277,4,2,347082,-0.06466327217338712,Unknown,False,True,False
544,1,2,"Beane, Mr. Edward",0,0.15850313099553,1,0,2908,-0.16441392684413544,Unknown,False,True,False
547,1,2,"Beane, Mrs. Edward (Ethel Clarke)",1,-0.7370405721877009,1,0,2908,-0.16441392684413544,Unknown,False,True,False
549,0,3,"Goldsmith, Mr. Frank John",0,0.22739110816347086,1,1,363291,-0.2679465968578506,Unknown,False,True,False
550,1,2,"Davies, Master. John Morgan Jr",0,-1.4948083210350502,1,1,C.A. 33112,0.03886939784032803,Unknown,False,True,False
552,0,2,"Sharp, Mr. Percival James R",0,-0.1859367548441742,0,0,244358,-0.16441392684413544,Unknown,False,True,False
554,1,3,"Leeni, Mr. Fahim (""Philip Zenni"")",0,-0.5303766406838785,0,0,2620,-0.5194506171651402,Unknown,False,False,False
555,1,3,"Ohman, Miss. Velin",1,-0.5303766406838785,0,0,347085,-0.5090500749719817,Unknown,False,True,False
557,1,1,"Duff Gordon, Lady. (Lucille Christiana Sutherland) (""Mrs Morgan"")",1,1.2607107656825836,1,0,11755,0.09276311647760442,A16,False,False,False
560,1,3,"de Messemaeker, Mrs. Guillaume Joseph (Emma)",1,0.43405503966729336,1,0,345572,-0.32704058659170626,Unknown,False,True,False
562,0,3,"Sivic, Mr. Husein",0,0.7096069483390568,0,0,349251,-0.5067657377048297,Unknown,False,True,False
563,0,2,"Norman, Mr. Robert Douglas",0,-0.11704877767623337,0,0,218629,-0.4007898857795581,Unknown,False,True,False
566,0,3,"Davies, Mr. Alfred J",0,-0.3926006863479967,2,0,A/4 48871,-0.19939756876657802,Unknown,False,True,False
567,0,3,"Stoytcheff, Mr. Ilia",0,-0.7370405721877009,0,0,349205,-0.5067657377048297,Unknown,False,True,False
568,0,3,"Palsson, Mrs. Nils (Alma Cornelia Berglund)",1,-0.04816080050829252,0,4,349909,-0.257546054664692,Unknown,False,True,False
570,1,3,"Jonsson, Mr. Carl",0,0.15850313099553,0,0,350417,-0.5075523968961668,Unknown,False,True,False
572,1,1,"Appleton, Mrs. Edward Dale (Charlotte Lamson)",1,1.6051506515222878,2,0,11769,0.31739969978845817,C101,False,True,False
573,1,1,"Flynn, Mr. John Irwin (""Irving"")",0,0.43405503966729336,0,0,PC 17474,-0.15708627211713735,E25,False,True,False
575,0,3,"Rush, Mr. Alfred George John",0,-0.9437045036915235,0,0,A/4. 20589,-0.5038498038754023,Unknown,False,True,False
576,0,3,"Patchett, Mr. George",0,-0.7370405721877009,0,0,358585,-0.3818798090647243,Unknown,False,True,False
577,1,2,"Garside, Miss. Ethel",1,0.2962790853314117,0,0,243880,-0.410244924136975,Unknown,False,True,False
580,1,3,"Jussila, Mr. Eiriik",0,0.15850313099553,0,0,STON/O 2. 3101286,-0.5062135634647565,Unknown,False,True,False
581,1,2,"Christy, Miss. Julie Rachel",1,-0.3237127091800559,1,1,237789,-0.0887736199848002,Unknown,False,True,False
583,0,2,"Downton, Mr. William James",0,1.6740386286902287,0,0,28403,-0.16441392684413544,Unknown,False,True,False
584,0,1,"Ross, Mr. John Hugo",0,0.43405503966729336,0,0,13049,0.10269090675289215,A10,False,False,False
587,0,2,"Jarvis, Mr. John Denzil",0,1.1918227885146426,0,0,237565,-0.3724247707073074,Unknown,False,True,False
589,0,3,"Gilinski, Mr. Eliezer",0,-0.5303766406838785,0,0,14973,-0.5038498038754023,Unknown,False,True,False
591,0,3,"Rintamaki, Mr. Matti",0,0.36516706249935255,0,0,STON/O 2. 3101273,-0.5213416248366236,Unknown,False,True,False
593,0,3,"Elsbury, Mr. William James",0,1.1918227885146426,0,0,A/5 3902,-0.5189778652472694,Unknown,False,True,False
595,0,2,"Chapman, Mr. John Henry",0,0.5029430168352342,1,0,SC/AH 29037,-0.16441392684413544,Unknown,False,True,False
596,0,3,"Van Impe, Mr. Jean Baptiste",0,0.43405503966729336,1,1,345773,-0.19939756876657802,Unknown,False,True,False
598,0,3,"Johnson, Mr. Alfred",0,1.3295987428505243,0,0,LINE,-0.6560759214298145,Unknown,False,True,False
601,1,2,"Jacobsohn, Mrs. Sidney Samuel (Amy Frances Christy)",1,-0.3926006863479967,2,1,243847,-0.14550385012930164,Unknown,False,True,False
604,0,3,"Torber, Mr. Ernst William",0,0.9851588570108202,0,0,364511,-0.5038498038754023,Unknown,False,True,False
605,1,1,"Homer, Mr. Harry (""Mr E Haven"")",0,0.36516706249935255,0,0,111426,-0.15401338465097683,Unknown,False,False,False
606,0,3,"Lindell, Mr. Edvard Bengtsson",0,0.43405503966729336,1,0,349910,-0.3620242285141488,Unknown,False,True,False
607,0,3,"Karaic, Mr. Milan",0,0.020727176659648322,0,0,349246,-0.5067657377048297,Unknown,False,True,False
608,1,1,"Daniel, Mr. Robert Williams",0,-0.1859367548441742,0,0,113804,-0.0793185816273833,Unknown,False,True,False
609,1,2,"Laroche, Mrs. Joseph (Juliette Marie Louise Lafargue)",1,-0.5303766406838785,1,2,SC/Paris 2123,0.13018994031160347,Unknown,False,False,False
611,0,3,"Andersson, Mrs. Anders Johan (Alfrida Konstantia Brogren)",1,0.6407189711711159,1,5,347082,-0.06466327217338712,Unknown,False,True,False
615,0,3,"Brocklebank, Mr. William Alfred",0,0.36516706249935255,0,0,364512,-0.5038498038754023,Unknown,False,True,False
617,0,3,"Danbom, Mr. Ernst Gilbert",0,0.2962790853314117,1,1,347080,-0.38377081673620766,Unknown,False,True,False
618,0,3,"Lobb, Mrs. William Arthur (Cordelia K Stanlick)",1,-0.25482473201211503,1,0,A/5. 3336,-0.35162368632099017,Unknown,False,True,False
619,1,2,"Becker, Miss. Marion Louise",1,-1.7703602297068137,2,1,230136,0.08141707044870411,F4,False,True,False
620,0,2,"Gavey, Mr. Lawrence",0,-0.25482473201211503,0,0,31028,-0.4575201159240595,Unknown,False,True,False
621,0,3,"Yasbeck, Mr. Antoni",0,-0.1859367548441742,1,0,2659,-0.3827458905782637,Unknown,False,False,False
622,1,1,"Kimball, Mr. Edwin Nelson Jr",0,0.8473829026749384,1,0,11753,0.33772803225690456,D19,False,True,False
623,1,3,"Nakid, Mr. Sahid",0,-0.6681525950197601,1,1,2653,-0.3583991668079151,Unknown,False,False,False
624,0,3,"Hansen, Mr. Henry Damsgaard",0,-0.5992646178518193,0,0,350029,-0.5075523968961668,Unknown,False,True,False
625,0,3,"Bowen, Mr. David John ""Dai""",0,-0.5992646178518193,0,0,54636,-0.35162368632099017,Unknown,False,True,False
627,0,2,"Kirkland, Rev. Charles Leonard",0,1.880702560194051,0,0,219533,-0.4225364740016169,Unknown,True,False,False
629,0,3,"Bostandyeff, Mr. Guentcho",0,-0.25482473201211503,0,0,349224,-0.5067657377048297,Unknown,False,True,False
632,0,3,"Lundahl, Mr. Johan Svensson",0,1.4673746971864061,0,0,347743,-0.5226804582680339,Unknown,False,True,False
633,1,1,"Stahelin-Maeglin, Dr. Max",0,0.15850313099553,0,0,13214,-0.0793185816273833,B50,False,False,False
635,0,3,"Skoog, Miss. Mabel",1,-1.4259203438671093,3,2,347088,-0.12848478108595124,Unknown,False,True,False
636,1,2,"Davis, Miss. Mary",1,-0.11704877767623337,0,0,237668,-0.410244924136975,Unknown,False,True,False
637,0,3,"Leinonen, Mr. Antti Gustaf",0,0.15850313099553,0,0,STON/O 2. 3101292,-0.5062135634647565,Unknown,False,True,False
638,0,2,"Collyer, Mr. Harvey",0,0.08961515382758917,1,1,C.A. 31921,-0.159686407665427,Unknown,False,True,False
639,0,3,"Panula, Mrs. Juha (Maria Emilia Ojala)",1,0.7784949255069976,0,5,3101295,0.09441774819015235,Unknown,False,True,False
641,0,3,"Jensen, Mr. Hans Peder",0,-0.6681525950197601,0,0,350050,-0.5075523968961668,Unknown,False,True,False
643,0,3,"Skoog, Miss. Margit Elizabeth",1,-1.9081361840426954,3,2,347088,-0.12848478108595124,Unknown,False,True,False
645,1,3,"Baclini, Miss. Eugenie",1,-1.9942461555026214,2,1,2666,-0.29189999103253056,Unknown,False,False,False
647,0,3,"Cor, Mr. Liudevit",0,-0.7370405721877009,0,0,349231,-0.5067657377048297,Unknown,False,True,False
648,1,1,"Simonius-Blumer, Col. Oberst Alfons",0,1.8118145830261103,0,0,13213,0.015231801946785766,A26,False,False,False
650,1,3,"Stanley, Miss. Amy Zillah Elsie",1,-0.4614886635159376,0,0,CA. 2314,-0.5133048422328192,Unknown,False,True,False
652,1,2,"Doling, Miss. Elsie",1,-0.8059285493556418,0,1,231919,-0.22114415698863688,Unknown,False,True,False
653,0,3,"Kalvik, Mr. Johannes Halvorsen",0,-0.5992646178518193,0,0,8475,-0.4966015714706066,Unknown,False,True,False
655,0,3,"Hegarty, Miss. Hanora ""Nora""",1,-0.8059285493556418,0,0,365226,-0.5284329036046863,Unknown,True,False,False
658,0,3,"Bourke, Mrs. John (Catherine)",1,0.15850313099553,1,1,364849,-0.3629697323498905,Unknown,True,False,False
659,0,2,"Eitemiller, Mr. George Floyd",0,-0.4614886635159376,0,0,29751,-0.410244924136975,Unknown,False,True,False
662,0,3,"Badt, Mr. Mohamed",0,0.7096069483390568,0,0,2623,-0.5194506171651402,Unknown,False,False,False
663,0,1,"Colley, Mr. Edward Pomeroy",0,1.1918227885146426,0,0,5727,-0.17221433348900442,E58,False,True,False
664,0,3,"Coleff, Mr. Peju",0,0.43405503966729336,0,0,349210,-0.5143297683907633,Unknown,False,True,False
665,1,3,"Lindqvist, Mr. Eino William",0,-0.6681525950197601,1,0,STON/O 2. 3101285,-0.5062135634647565,Unknown,False,True,False
667,0,2,"Butler, Mr. Reginald Fenton",0,-0.3237127091800559,0,0,234686,-0.410244924136975,Unknown,False,True,False
669,0,3,"Cook, Mr. Jacob",0,0.9162708798428792,0,0,A/5 3536,-0.5038498038754023,Unknown,False,True,False
671,1,2,"Brown, Mrs. Thomas William Solomon (Elizabeth Catherine Ford)",1,0.7096069483390568,1,1,29750,0.08141707044870411,Unknown,False,True,False
672,0,1,"Davidson, Mr. Thornton",0,0.08961515382758917,1,0,F.C. 12750,0.32724806774154364,B71,False,True,False
674,1,2,"Wilhelms, Mr. Charles",0,0.08961515382758917,0,0,244270,-0.410244924136975,Unknown,False,True,False
676,0,3,"Edvardsson, Mr. Gustaf Hjalmar",0,-0.8059285493556418,0,0,349912,-0.5090500749719817,Unknown,False,True,False
677,0,3,"Sawyer, Mr. Frederick Charles",0,-0.3581566977640263,0,0,342826,-0.5038498038754023,Unknown,False,True,False
678,1,3,"Turja, Miss. Anna Sofia",1,-0.8059285493556418,0,0,4138,-0.4699686194254346,Unknown,False,True,False
679,0,3,"Goodwin, Mrs. Frederick (Augusta Tyler)",1,0.9162708798428792,1,6,CA 2144,0.2308066764958912,Unknown,False,True,False
683,0,3,"Olsvigen, Mr. Thor Anderson",0,-0.6681525950197601,0,0,6563,-0.48163046373547264,Unknown,False,True,False
684,0,3,"Goodwin, Mr. Charles Edward",0,-1.0814804580274051,5,2,CA 2144,0.2308066764958912,Unknown,False,True,False
685,0,2,"Brown, Mr. Thomas William Solomon",0,2.087366491697874,1,1,29750,0.08141707044870411,Unknown,False,True,False
686,0,2,"Laroche, Mr. Joseph Philippe Lemercier",0,-0.3237127091800559,1,2,SC/Paris 2123,0.13018994031160347,Unknown,False,False,False
687,0,3,"Panula, Mr. Jaako Arnold",0,-1.0814804580274051,4,1,3101295,0.09441774819015235,Unknown,False,True,False
688,0,3,"Dakic, Mr. Branko",0,-0.7370405721877009,0,0,349228,-0.4637453131785828,Unknown,False,True,False
689,0,3,"Fischer, Mr. Eberhard Thelander",0,-0.8059285493556418,0,0,350036,-0.5086567453763131,Unknown,False,True,False
692,1,3,"Karun, Miss. Manca",1,-1.7703602297068137,0,1,349256,-0.40236509516990376,Unknown,False,False,False
694,0,3,"Saad, Mr. Khalil",0,-0.3237127091800559,0,0,2672,-0.5194506171651402,Unknown,False,False,False
695,0,1,"Weir, Col. John",0,2.087366491697874,0,0,113800,-0.15401338465097683,Unknown,False,True,False
696,0,2,"Chapman, Mr. Charles Henry",0,1.5362626743543468,0,0,248731,-0.4007898857795581,Unknown,False,True,False
697,0,3,"Kelly, Mr. James",0,0.9851588570108202,0,0,363592,-0.5038498038754023,Unknown,False,True,False
700,0,3,"Humblen, Mr. Adolf Mathias Nicolai Olsen",0,0.8473829026749384,0,0,348121,-0.5114138345613359,F G63,False,True,False
702,1,1,"Silverthorne, Mr. Spencer Victor",0,0.36516706249935255,0,0,PC 17475,-0.1589772797886207,E24,False,True,False
703,0,3,"Barbara, Miss. Saiide",1,-0.8059285493556418,0,1,2691,-0.3827458905782637,Unknown,False,False,False
704,0,3,"Gallagher, Mr. Martin",0,-0.3237127091800559,0,0,36864,-0.5096797805265856,Unknown,True,False,False
705,0,3,"Hansen, Mr. Henrik Juul",0,-0.25482473201211503,1,0,350025,-0.5075523968961668,Unknown,False,True,False
706,0,2,"Morley, Mr. Henry Samuel (""Mr Henry Marshall"")",0,0.6407189711711159,0,0,250655,-0.16441392684413544,Unknown,False,True,False
707,1,2,"Kelly, Mrs. Florence ""Fannie""",1,1.054046834178761,0,0,223596,-0.4007898857795581,Unknown,False,True,False
708,1,1,"Calderhead, Mr. Edward Pennington",0,0.8473829026749384,0,0,PC 17476,-0.1589772797886207,E24,False,True,False
711,1,1,"Mayne, Mlle. Berthe Antonine (""Mrs de Villiers"")",1,-0.3926006863479967,0,0,PC 17482,0.2800522982766614,C90,False,False,False
713,1,1,"Taylor, Mr. Elmer Zebley",0,1.2607107656825836,1,0,19996,0.32724806774154364,C126,False,True,False
714,0,3,"Larsson, Mr. August Viktor",0,-0.04816080050829252,0,0,7545,-0.47674599092003106,Unknown,False,True,False
715,0,2,"Greenberg, Mr. Samuel",0,1.5362626743543468,0,0,250647,-0.410244924136975,Unknown,False,True,False
716,0,3,"Soholt, Mr. Peter Andreas Lauritz Andersen",0,-0.7370405721877009,0,0,348124,-0.5114138345613359,F G73,False,True,False
718,1,2,"Troutt, Miss. Edwina Celia ""Winnie""",1,-0.1859367548441742,0,0,34218,-0.4575201159240595,E101,False,True,False
720,0,3,"Johnson, Mr. Malkolm Joackim",0,0.22739110816347086,0,0,347062,-0.5090500749719817,Unknown,False,True,False
721,1,2,"Harper, Miss. Annie Jessie ""Nina""",1,-1.6325842753709319,0,1,248727,-0.03204338984029876,Unknown,False,True,False
722,0,3,"Jensen, Mr. Svend Lauritz",0,-0.8748165265235827,1,0,350048,-0.5226804582680339,Unknown,False,True,False
723,0,2,"Gillespie, Mr. William Henry",0,0.2962790853314117,0,0,12233,-0.410244924136975,Unknown,False,True,False
724,0,2,"Hodges, Mr. Henry Price",0,1.3984867200184652,0,0,250643,-0.410244924136975,Unknown,False,True,False
725,1,1,"Chambers, Mr. Norman Campbell",0,-0.1859367548441742,1,0,113806,0.34804915212786086,E8,False,True,False
726,0,3,"Oreskovic, Mr. Luka",0,-0.6681525950197601,0,0,315094,-0.49226738188756664,Unknown,False,True,False
727,1,2,"Renouf, Mrs. Peter Henry (Lillian Jefferys)",1,0.020727176659648322,3,0,31027,-0.2589643104183045,Unknown,False,True,False
729,0,2,"Bryhl, Mr. Kurt Arnold Gottfrid",0,-0.3237127091800559,1,0,236853,-0.16441392684413544,Unknown,False,True,False
730,0,3,"Ilmakangas, Miss. Pieta Sofia",1,-0.3237127091800559,1,0,STON/O2. 3101271,-0.5062135634647565,Unknown,False,True,False
732,0,3,"Hassan, Mr. Houssein G N",0,-1.2881443895312277,0,0,2699,-0.30080285514987426,Unknown,False,False,False
734,0,2,"Berriman, Mr. William John",0,-0.4614886635159376,0,0,28425,-0.410244924136975,Unknown,False,True,False
735,0,2,"Troupiansky, Mr. Moses Aaron",0,-0.4614886635159376,0,0,233639,-0.410244924136975,Unknown,False,True,False
736,0,3,"Williams, Mr. Leslie",0,-0.08260478909226295,0,0,54636,-0.35162368632099017,Unknown,False,True,False
737,0,3,"Ford, Mrs. Edward (Margaret Ann Watson)",1,1.2607107656825836,1,3,W./C. 6608,-0.006042034357402272,Unknown,False,True,False
744,0,3,"McNamee, Mr. Neal",0,-0.3926006863479967,1,0,376566,-0.35162368632099017,Unknown,False,True,False
745,1,3,"Stranden, Mr. Juho",0,0.08961515382758917,0,0,STON/O 2. 3101288,-0.5062135634647565,Unknown,False,True,False
747,0,3,"Abbott, Mr. Rossmore Edward",0,-0.9437045036915235,1,1,C.A. 2673,-0.2731468679544299,Unknown,False,True,False
748,1,2,"Sinkkonen, Miss. Anna",1,0.020727176659648322,0,0,250648,-0.410244924136975,Unknown,False,True,False
749,0,1,"Marvin, Mr. Daniel Warner",0,-0.7370405721877009,1,0,113773,0.34804915212786086,D30,False,True,False
750,0,3,"Connaghton, Mr. Michael",0,0.08961515382758917,0,0,335097,-0.5095228268898525,Unknown,True,False,False
751,1,2,"Wells, Miss. Joan",1,-1.7703602297068137,1,1,29103,-0.22114415698863688,Unknown,False,True,False
752,1,3,"Moor, Master. Meier",0,-1.6325842753709319,0,1,392096,-0.4201727144122627,E121,False,True,False
753,0,3,"Vande Velde, Mr. Johannes Joseph",0,0.22739110816347086,0,0,345780,-0.47643019263889336,Unknown,False,True,False
754,0,3,"Jonkoff, Mr. Lalio",0,-0.4614886635159376,0,0,349204,-0.5067657377048297,Unknown,False,True,False
756,1,2,"Hamalainen, Master. Viljo",0,-1.9997571936760565,1,1,250649,-0.3818798090647243,Unknown,False,True,False
757,0,3,"Carlsson, Mr. August Sigfrid",0,-0.11704877767623337,0,0,350042,-0.5086567453763131,Unknown,False,True,False
758,0,2,"Bailey, Mr. Percy Andrew",0,-0.8059285493556418,0,0,29108,-0.4386100392092257,Unknown,False,True,False
759,0,3,"Theobald, Mr. Thomas Leonard",0,0.2962790853314117,0,0,363294,-0.5038498038754023,Unknown,False,True,False
762,0,3,"Nirva, Mr. Iisakki Antino Aijo",0,0.7784949255069976,0,0,SOTON/O2 3101272,-0.5213416248366236,Unknown,False,True,False
763,1,3,"Barah, Mr. Hanna Assi",0,-0.6681525950197601,0,0,2663,-0.519371194842938,Unknown,False,False,False
765,0,3,"Eklund, Mr. Hans Linus",0,-0.9437045036915235,0,0,347074,-0.5090500749719817,Unknown,False,True,False
768,0,3,"Mangan, Miss. Mary",1,0.055171165243618744,0,0,364850,-0.5095228268898525,Unknown,True,False,False
770,0,3,"Gronnestad, Mr. Daniel Danielsen",0,0.15850313099553,0,0,8471,-0.4979404049020168,Unknown,False,True,False
771,0,3,"Lievens, Mr. Rene Aime",0,-0.3926006863479967,0,0,345781,-0.47643019263889336,Unknown,False,True,False
772,0,3,"Jensen, Mr. Niels Peder",0,1.2607107656825836,0,0,350047,-0.5075523968961668,Unknown,False,True,False
773,0,2,"Mack, Mrs. (Mary)",1,1.880702560194051,0,0,S.O./P.P. 3,-0.4575201159240595,E77,False,True,False
775,1,2,"Hocking, Mrs. Elizabeth (Eliza Needs)",1,1.6740386286902287,1,3,29105,-0.22114415698863688,Unknown,False,True,False
776,0,3,"Myhrman, Mr. Pehr Fabian Oliver Malkolm",0,-0.8059285493556418,0,0,347078,-0.5095228268898525,Unknown,False,True,False
778,1,3,"Emanuel, Miss. Virginia Ethel",1,-1.7014722525388728,0,0,364516,-0.4201727144122627,Unknown,False,True,False
781,1,3,"Ayoub, Miss. Banoura",1,-1.150368435195346,0,0,2687,-0.519371194842938,Unknown,False,False,False
783,0,1,"Long, Mr. Milton Clyde",0,-0.04816080050829252,0,0,113501,-0.0887736199848002,D6,False,True,False
785,0,3,"Ali, Mr. William",0,-0.3237127091800559,0,0,SOTON/O.Q. 3101312,-0.5227598805902361,Unknown,False,True,False
786,0,3,"Harmer, Mr. Abraham (David Lishin)",0,-0.3237127091800559,0,0,374887,-0.5189778652472694,Unknown,False,True,False
787,1,3,"Sjoblom, Miss. Anna Sofia",1,-0.8059285493556418,0,0,3101265,-0.5143297683907633,Unknown,False,True,False
788,0,3,"Rice, Master. George Hugh",0,-1.4948083210350502,4,1,382652,-0.10531993711027979,Unknown,True,False,False
789,1,3,"Dean, Master. Bertram Vere",0,-1.977024161210636,1,2,C.A. 2315,-0.2670010930221089,Unknown,False,True,False
792,0,2,"Gaskell, Mr. Alfred",0,-0.9437045036915235,0,0,239865,-0.16441392684413544,Unknown,False,True,False
795,0,3,"Dantcheff, Mr. Ristiu",0,-0.3237127091800559,0,0,349203,-0.5067657377048297,Unknown,False,True,False
796,0,2,"Otter, Mr. Richard",0,0.6407189711711159,0,0,28213,-0.410244924136975,Unknown,False,True,False
797,1,1,"Leader, Dr. Alice (Farnham)",1,1.3295987428505243,0,0,17465,-0.16575276027554564,D17,False,True,False
798,1,3,"Osman, Mrs. Mara",1,0.08961515382758917,0,0,349244,-0.4918740522918981,Unknown,False,True,False
799,0,3,"Ibrahim Shawah, Mr. Yousseff",0,0.020727176659648322,0,0,2685,-0.519371194842938,Unknown,False,False,False
800,0,3,"Van Impe, Mrs. Jean Baptiste (Rosalie Paula Govaert)",1,0.020727176659648322,1,1,345773,-0.19939756876657802,Unknown,False,True,False
801,0,2,"Ponesell, Mr. Martin",0,0.2962790853314117,0,0,250647,-0.410244924136975,Unknown,False,True,False
802,1,2,"Collyer, Mrs. Harvey (Charlotte Annie Tate)",1,0.08961515382758917,1,1,C.A. 31921,-0.159686407665427,Unknown,False,True,False
804,1,3,"Thomas, Master. Assad Alexander",0,-2.0169791879680417,0,1,2625,-0.4950244710725894,Unknown,False,False,False
805,1,3,"Hedman, Mr. Oskar Arvid",0,-0.1859367548441742,0,0,347089,-0.5241781363438487,Unknown,False,True,False
806,0,3,"Johansson, Mr. Karl Johan",0,0.08961515382758917,0,0,347063,-0.5090500749719817,Unknown,False,True,False
807,0,1,"Andrews, Mr. Thomas Jr",0,0.6407189711711159,0,0,112050,-0.6560759214298145,A36,False,True,False
808,0,3,"Pettersson, Miss. Ellen Natalia",1,-0.8059285493556418,0,0,347087,-0.5090500749719817,Unknown,False,True,False
809,0,2,"Meyer, Mr. August",0,0.6407189711711159,0,0,248723,-0.410244924136975,Unknown,False,True,False
810,1,1,"Chambers, Mrs. Norman Campbell (Bertha Griggs)",1,0.22739110816347086,1,0,113806,0.34804915212786086,E8,False,True,False
811,0,3,"Alexander, Mr. William",0,-0.25482473201211503,0,0,3474,-0.5069226913415629,Unknown,False,True,False
812,0,3,"Lester, Mr. James",0,0.6407189711711159,0,0,A/4 48871,-0.19939756876657802,Unknown,False,True,False
813,0,2,"Slemen, Mr. Richard James",0,0.36516706249935255,0,0,28206,-0.4575201159240595,Unknown,False,True,False
814,0,3,"Andersson, Miss. Ebba Iris Alfrida",1,-1.6325842753709319,4,2,347082,-0.06466327217338712,Unknown,False,True,False
815,0,3,"Tomlin, Mr. Ernest Portage",0,0.055171165243618744,0,0,364499,-0.5038498038754023,Unknown,False,True,False
817,0,3,"Heininen, Miss. Wendla Maria",1,-0.4614886635159376,0,0,STON/O2. 3101290,-0.5062135634647565,Unknown,False,True,False
818,0,2,"Mallet, Mr. Albert",0,0.08961515382758917,1,1,S.C./PARIS 2079,0.04367633934123873,Unknown,False,False,False
819,0,3,"Holm, Mr. John Fredrik Alexander",0,0.9162708798428792,0,0,C 7075,-0.5341059266191365,Unknown,False,True,False
820,0,3,"Skoog, Master. Karl Thorsten",0,-1.3570323666991686,3,2,347088,-0.12848478108595124,Unknown,False,True,False
822,1,3,"Lulic, Mr. Nikola",0,-0.1859367548441742,0,0,315098,-0.49226738188756664,Unknown,False,True,False
823,0,1,"Reuchlin, Jonkheer. John George",0,0.571830994003175,0,0,19972,-0.6560759214298145,Unknown,False,True,False
824,1,3,"Moor, Mrs. (Beila)",1,-0.1859367548441742,0,1,392096,-0.4201727144122627,E121,False,True,False
825,0,3,"Panula, Master. Urho Abraham",0,-1.9081361840426954,4,1,3101295,0.09441774819015235,Unknown,False,True,False
828,1,2,"Mallet, Master. Andre",0,-1.977024161210636,0,2,S.C./PARIS 2079,0.04367633934123873,Unknown,False,False,False
831,1,3,"Yasbeck, Mrs. Antoni (Selini Alexander)",1,-1.0125924808594644,1,0,2659,-0.3827458905782637,Unknown,False,False,False
832,1,2,"Richards, Master. George Sibley",0,-1.9887351173291863,1,1,29106,-0.3015119830266806,Unknown,False,True,False
834,0,3,"Augustsson, Mr. Albert",0,-0.4614886635159376,0,0,347468,-0.5075523968961668,Unknown,False,True,False
835,0,3,"Allum, Mr. Owen George",0,-0.8059285493556418,0,0,2223,-0.4991222846966939,Unknown,False,True,False
837,0,3,"Pasic, Mr. Jakob",0,-0.5992646178518193,0,0,315097,-0.49226738188756664,Unknown,False,True,False
841,0,3,"Alhomaki, Mr. Ilmari Rudolf",0,-0.6681525950197601,0,0,SOTON/O2 3101287,-0.5062135634647565,Unknown,False,True,False
842,0,2,"Mudd, Mr. Thomas Charles",0,-0.9437045036915235,0,0,S.O./P.P. 3,-0.4575201159240595,Unknown,False,True,False
843,1,1,"Serepeca, Miss. Augusta",1,0.020727176659648322,0,0,113798,-0.06986354326996638,Unknown,False,False,False
844,0,3,"Lemberopolous, Mr. Peter L",0,0.33072307391538214,0,0,2683,-0.5343423025780719,Unknown,False,False,False
845,0,3,"Culumovic, Mr. Jeso",0,-0.8748165265235827,0,0,315090,-0.49226738188756664,Unknown,False,True,False
846,0,3,"Abbing, Mr. Anthony",0,0.8473829026749384,0,0,C.A. 5547,-0.5133048422328192,Unknown,False,True,False
848,0,3,"Markoff, Mr. Marin",0,0.36516706249935255,0,0,349213,-0.5067657377048297,Unknown,False,False,False
849,0,2,"Harper, Rev. John",0,-0.11704877767623337,0,1,248727,-0.03204338984029876,Unknown,False,True,False
851,0,3,"Andersson, Master. Sigvard Harald Elias",0,-1.7703602297068137,4,2,347082,-0.06466327217338712,Unknown,False,True,False
853,0,3,"Boulos, Miss. Nourelain",1,-1.4259203438671093,1,1,2678,-0.36777667385080126,Unknown,False,False,False
854,1,1,"Lines, Miss. Mary Conover",1,-0.9437045036915235,0,1,PC 17592,0.0889811011346376,D28,False,True,False
855,0,2,"Carter, Mrs. Ernest Courtenay (Lilian Hughes)",1,0.9851588570108202,1,0,244252,-0.16441392684413544,Unknown,False,True,False
856,1,3,"Aks, Mrs. Sam (Leah Rosen)",1,-0.8059285493556418,0,1,392091,-0.4792667041461184,Unknown,False,True,False
858,1,1,"Daly, Mr. Peter Denis ",0,1.4673746971864061,0,0,113055,-0.15401338465097683,E17,False,True,False
859,1,3,"Baclini, Mrs. Solomon (Latifa Qurban)",1,-0.3926006863479967,0,3,2666,-0.29189999103253056,Unknown,False,False,False
861,0,3,"Hansen, Mr. Claus Peter",0,0.7784949255069976,2,0,350026,-0.3892868861139247,Unknown,False,True,False
862,0,2,"Giles, Mr. Frederick Edward",0,-0.5992646178518193,1,0,28134,-0.4386100392092257,Unknown,False,True,False
863,1,1,"Swift, Mrs. Frederick Joel (Margaret Welles Barron)",1,1.2607107656825836,0,0,17466,-0.16575276027554564,D17,False,True,False
865,0,2,"Gill, Mr. John William",0,-0.3926006863479967,0,0,233866,-0.410244924136975,Unknown,False,True,False
866,1,2,"Bystrom, Mrs. (Karolina)",1,0.8473829026749384,0,0,236852,-0.410244924136975,Unknown,False,True,False
867,1,2,"Duran y More, Miss. Asuncion",1,-0.1859367548441742,1,0,SC/PARIS 2149,-0.39401440529263315,Unknown,False,False,False
868,0,1,"Roebling, Mr. Washington Augustus II",0,0.08961515382758917,0,0,PC 17590,0.2988035303470907,A24,False,True,False
870,1,3,"Johnson, Master. Harold Theodor",0,-1.7703602297068137,1,1,347742,-0.4455443643405553,Unknown,False,True,False
871,0,3,"Balkic, Mr. Cerin",0,-0.25482473201211503,0,0,349248,-0.5067657377048297,Unknown,False,True,False
872,1,1,"Beckwith, Mrs. Richard Leonard (Sallie Monypeny)",1,1.1918227885146426,1,1,11751,0.33772803225690456,D35,False,True,False
873,0,1,"Carlsson, Mr. Frans Olof",0,0.22739110816347086,0,0,695,-0.5615255378556455,B51 B53 B55,False,True,False
874,0,3,"Vander Cruyssen, Mr. Victor",0,1.1918227885146426,0,0,345765,-0.48588523099631026,Unknown,False,True,False
875,1,2,"Abelson, Mrs. Samuel (Hannah Wizosky)",1,-0.11704877767623337,1,0,P/PP 3381,-0.20223408027380307,Unknown,False,False,False
876,1,3,"Najib, Miss. Adele Kiamie ""Jane""",1,-1.0125924808594644,0,0,2667,-0.5194506171651402,Unknown,False,False,False
877,0,3,"Gustafsson, Mr. Alfred Ossian",0,-0.6681525950197601,0,0,7534,-0.4698910881109038,Unknown,False,True,False
878,0,3,"Petroff, Mr. Nedelio",0,-0.7370405721877009,0,0,349212,-0.5067657377048297,Unknown,False,True,False
881,1,2,"Shelley, Mrs. William (Imanita Parrish Hall)",1,-0.3237127091800559,0,1,230433,-0.16441392684413544,Unknown,False,True,False
882,0,3,"Markun, Mr. Johann",0,0.22739110816347086,0,0,349257,-0.5067657377048297,Unknown,False,True,False
883,0,3,"Dahlberg, Miss. Gerda Ulrika",1,-0.5303766406838785,0,0,7552,-0.4572043176429218,Unknown,False,True,False
884,0,2,"Banfield, Mr. Frederick James",0,-0.11704877767623337,0,0,C.A./SOTON 34068,-0.4575201159240595,Unknown,False,True,False
885,0,3,"Sutehall, Mr. Henry Jr",0,-0.3237127091800559,0,0,SOTON/OQ 392076,-0.5227598805902361,Unknown,False,True,False
886,0,3,"Rice, Mrs. William (Margaret Norton)",1,0.6407189711711159,0,5,382652,-0.10531993711027979,Unknown,True,False,False
887,0,2,"Montvila, Rev. Juozas",0,-0.1859367548441742,0,0,211536,-0.410244924136975,Unknown,False,True,False
888,1,1,"Graham, Miss. Margaret Edith",1,-0.7370405721877009,0,0,112053,-0.0887736199848002,B42,False,True,False
890,1,1,"Behr, Mr. Karl Howell",0,-0.25482473201211503,0,0,111369,-0.0887736199848002,C148,False,False,False
891,0,3,"Dooley, Mr. Patrick",0,0.15850313099553,0,0,370376,-0.5095228268898525,Unknown,True,False,False
